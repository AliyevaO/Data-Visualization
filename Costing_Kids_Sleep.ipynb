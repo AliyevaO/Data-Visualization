{
  "nbformat": 4,
  "nbformat_minor": 0,
  "metadata": {
    "colab": {
      "name": "Costing Kids Sleep.ipynb",
      "provenance": [],
      "collapsed_sections": [],
      "authorship_tag": "ABX9TyOV+JIiHNfmEvG/OWfxqaYg",
      "include_colab_link": true
    },
    "kernelspec": {
      "name": "python3",
      "display_name": "Python 3"
    },
    "language_info": {
      "name": "python"
    }
  },
  "cells": [
    {
      "cell_type": "markdown",
      "metadata": {
        "id": "view-in-github",
        "colab_type": "text"
      },
      "source": [
        "<a href=\"https://colab.research.google.com/github/AliyevaO/Data-Visualization/blob/main/Costing_Kids_Sleep.ipynb\" target=\"_parent\"><img src=\"https://colab.research.google.com/assets/colab-badge.svg\" alt=\"Open In Colab\"/></a>"
      ]
    },
    {
      "cell_type": "markdown",
      "source": [
        "##Data Visualization Exercise\n",
        "* Oleksandra Aliyeva\n",
        "* 02.04.2022"
      ],
      "metadata": {
        "id": "bZsAL1HAiwB0"
      }
    },
    {
      "cell_type": "code",
      "execution_count": 25,
      "metadata": {
        "id": "jI9lyEuuigAS",
        "colab": {
          "base_uri": "https://localhost:8080/"
        },
        "outputId": "75915c70-cab6-4466-b2ec-fbb080af7466"
      },
      "outputs": [
        {
          "output_type": "stream",
          "name": "stdout",
          "text": [
            "Drive already mounted at /content/drive; to attempt to forcibly remount, call drive.mount(\"/content/drive\", force_remount=True).\n"
          ]
        }
      ],
      "source": [
        "from google.colab import drive\n",
        "drive.mount('/content/drive')"
      ]
    },
    {
      "cell_type": "code",
      "source": [
        "import matplotlib.pyplot as plt\n",
        "import seaborn as sns\n",
        "import pandas as pd\n",
        "import numpy as np"
      ],
      "metadata": {
        "id": "WYGSiPV7i5wh"
      },
      "execution_count": 26,
      "outputs": []
    },
    {
      "cell_type": "code",
      "source": [
        "!pip install openpyxl==3.0.0"
      ],
      "metadata": {
        "colab": {
          "base_uri": "https://localhost:8080/"
        },
        "id": "Qx8HPHcakNi3",
        "outputId": "81d05890-4267-4d34-9f14-5ce727755052"
      },
      "execution_count": 27,
      "outputs": [
        {
          "output_type": "stream",
          "name": "stdout",
          "text": [
            "Requirement already satisfied: openpyxl==3.0.0 in /usr/local/lib/python3.7/dist-packages (3.0.0)\n",
            "Requirement already satisfied: jdcal in /usr/local/lib/python3.7/dist-packages (from openpyxl==3.0.0) (1.4.1)\n",
            "Requirement already satisfied: et-xmlfile in /usr/local/lib/python3.7/dist-packages (from openpyxl==3.0.0) (1.1.0)\n"
          ]
        }
      ]
    },
    {
      "cell_type": "code",
      "source": [
        "#downloading and checking the head of the data\n",
        "filename = '/content/drive/MyDrive/Bootcamp/Data/Week9MM.xlsx'\n",
        "df = pd.read_excel(filename) #index_col=0) \n",
        "df.head()"
      ],
      "metadata": {
        "id": "MIO_-wCWi5zg",
        "colab": {
          "base_uri": "https://localhost:8080/",
          "height": 204
        },
        "outputId": "3fa28404-4043-45f2-8f96-c47f6bb24ea6"
      },
      "execution_count": 28,
      "outputs": [
        {
          "output_type": "execute_result",
          "data": {
            "text/html": [
              "\n",
              "  <div id=\"df-01cd5a89-ee94-49ac-ab3c-e038b8aea8d6\">\n",
              "    <div class=\"colab-df-container\">\n",
              "      <div>\n",
              "<style scoped>\n",
              "    .dataframe tbody tr th:only-of-type {\n",
              "        vertical-align: middle;\n",
              "    }\n",
              "\n",
              "    .dataframe tbody tr th {\n",
              "        vertical-align: top;\n",
              "    }\n",
              "\n",
              "    .dataframe thead th {\n",
              "        text-align: right;\n",
              "    }\n",
              "</style>\n",
              "<table border=\"1\" class=\"dataframe\">\n",
              "  <thead>\n",
              "    <tr style=\"text-align: right;\">\n",
              "      <th></th>\n",
              "      <th>Grade</th>\n",
              "      <th>Hours Needed</th>\n",
              "      <th>Hours Averaged</th>\n",
              "    </tr>\n",
              "  </thead>\n",
              "  <tbody>\n",
              "    <tr>\n",
              "      <th>0</th>\n",
              "      <td>Kindergarten</td>\n",
              "      <td>9.5</td>\n",
              "      <td>8.5</td>\n",
              "    </tr>\n",
              "    <tr>\n",
              "      <th>1</th>\n",
              "      <td>First grade</td>\n",
              "      <td>9.1</td>\n",
              "      <td>8.4</td>\n",
              "    </tr>\n",
              "    <tr>\n",
              "      <th>2</th>\n",
              "      <td>Second grade</td>\n",
              "      <td>9.3</td>\n",
              "      <td>8.3</td>\n",
              "    </tr>\n",
              "    <tr>\n",
              "      <th>3</th>\n",
              "      <td>Third grade</td>\n",
              "      <td>8.6</td>\n",
              "      <td>8.1</td>\n",
              "    </tr>\n",
              "    <tr>\n",
              "      <th>4</th>\n",
              "      <td>Fourth grade</td>\n",
              "      <td>8.9</td>\n",
              "      <td>7.9</td>\n",
              "    </tr>\n",
              "  </tbody>\n",
              "</table>\n",
              "</div>\n",
              "      <button class=\"colab-df-convert\" onclick=\"convertToInteractive('df-01cd5a89-ee94-49ac-ab3c-e038b8aea8d6')\"\n",
              "              title=\"Convert this dataframe to an interactive table.\"\n",
              "              style=\"display:none;\">\n",
              "        \n",
              "  <svg xmlns=\"http://www.w3.org/2000/svg\" height=\"24px\"viewBox=\"0 0 24 24\"\n",
              "       width=\"24px\">\n",
              "    <path d=\"M0 0h24v24H0V0z\" fill=\"none\"/>\n",
              "    <path d=\"M18.56 5.44l.94 2.06.94-2.06 2.06-.94-2.06-.94-.94-2.06-.94 2.06-2.06.94zm-11 1L8.5 8.5l.94-2.06 2.06-.94-2.06-.94L8.5 2.5l-.94 2.06-2.06.94zm10 10l.94 2.06.94-2.06 2.06-.94-2.06-.94-.94-2.06-.94 2.06-2.06.94z\"/><path d=\"M17.41 7.96l-1.37-1.37c-.4-.4-.92-.59-1.43-.59-.52 0-1.04.2-1.43.59L10.3 9.45l-7.72 7.72c-.78.78-.78 2.05 0 2.83L4 21.41c.39.39.9.59 1.41.59.51 0 1.02-.2 1.41-.59l7.78-7.78 2.81-2.81c.8-.78.8-2.07 0-2.86zM5.41 20L4 18.59l7.72-7.72 1.47 1.35L5.41 20z\"/>\n",
              "  </svg>\n",
              "      </button>\n",
              "      \n",
              "  <style>\n",
              "    .colab-df-container {\n",
              "      display:flex;\n",
              "      flex-wrap:wrap;\n",
              "      gap: 12px;\n",
              "    }\n",
              "\n",
              "    .colab-df-convert {\n",
              "      background-color: #E8F0FE;\n",
              "      border: none;\n",
              "      border-radius: 50%;\n",
              "      cursor: pointer;\n",
              "      display: none;\n",
              "      fill: #1967D2;\n",
              "      height: 32px;\n",
              "      padding: 0 0 0 0;\n",
              "      width: 32px;\n",
              "    }\n",
              "\n",
              "    .colab-df-convert:hover {\n",
              "      background-color: #E2EBFA;\n",
              "      box-shadow: 0px 1px 2px rgba(60, 64, 67, 0.3), 0px 1px 3px 1px rgba(60, 64, 67, 0.15);\n",
              "      fill: #174EA6;\n",
              "    }\n",
              "\n",
              "    [theme=dark] .colab-df-convert {\n",
              "      background-color: #3B4455;\n",
              "      fill: #D2E3FC;\n",
              "    }\n",
              "\n",
              "    [theme=dark] .colab-df-convert:hover {\n",
              "      background-color: #434B5C;\n",
              "      box-shadow: 0px 1px 3px 1px rgba(0, 0, 0, 0.15);\n",
              "      filter: drop-shadow(0px 1px 2px rgba(0, 0, 0, 0.3));\n",
              "      fill: #FFFFFF;\n",
              "    }\n",
              "  </style>\n",
              "\n",
              "      <script>\n",
              "        const buttonEl =\n",
              "          document.querySelector('#df-01cd5a89-ee94-49ac-ab3c-e038b8aea8d6 button.colab-df-convert');\n",
              "        buttonEl.style.display =\n",
              "          google.colab.kernel.accessAllowed ? 'block' : 'none';\n",
              "\n",
              "        async function convertToInteractive(key) {\n",
              "          const element = document.querySelector('#df-01cd5a89-ee94-49ac-ab3c-e038b8aea8d6');\n",
              "          const dataTable =\n",
              "            await google.colab.kernel.invokeFunction('convertToInteractive',\n",
              "                                                     [key], {});\n",
              "          if (!dataTable) return;\n",
              "\n",
              "          const docLinkHtml = 'Like what you see? Visit the ' +\n",
              "            '<a target=\"_blank\" href=https://colab.research.google.com/notebooks/data_table.ipynb>data table notebook</a>'\n",
              "            + ' to learn more about interactive tables.';\n",
              "          element.innerHTML = '';\n",
              "          dataTable['output_type'] = 'display_data';\n",
              "          await google.colab.output.renderOutput(dataTable, element);\n",
              "          const docLink = document.createElement('div');\n",
              "          docLink.innerHTML = docLinkHtml;\n",
              "          element.appendChild(docLink);\n",
              "        }\n",
              "      </script>\n",
              "    </div>\n",
              "  </div>\n",
              "  "
            ],
            "text/plain": [
              "          Grade  Hours Needed  Hours Averaged\n",
              "0  Kindergarten           9.5             8.5\n",
              "1   First grade           9.1             8.4\n",
              "2  Second grade           9.3             8.3\n",
              "3   Third grade           8.6             8.1\n",
              "4  Fourth grade           8.9             7.9"
            ]
          },
          "metadata": {},
          "execution_count": 28
        }
      ]
    },
    {
      "cell_type": "code",
      "source": [
        "#changing column names\n",
        "df.columns=[col.replace(' ','_')for col in df.columns]"
      ],
      "metadata": {
        "id": "qnv7-6FuGgwq"
      },
      "execution_count": 29,
      "outputs": []
    },
    {
      "cell_type": "code",
      "source": [
        "#adding a column to a DataFrame to show the sleep deficit in different age categories\n",
        "deficit = df['Hours_Needed'] - df['Hours_Averaged']\n",
        "df['Deficit']=deficit"
      ],
      "metadata": {
        "id": "aIcYfSfji53F"
      },
      "execution_count": 30,
      "outputs": []
    },
    {
      "cell_type": "code",
      "source": [
        "#adding color to the last column\n",
        "df.style.text_gradient(cmap='coolwarm', subset='Deficit')"
      ],
      "metadata": {
        "colab": {
          "base_uri": "https://localhost:8080/",
          "height": 452
        },
        "id": "dLqYTg_yIB1w",
        "outputId": "f9e6cc5f-460f-4a81-af42-e799045b842e"
      },
      "execution_count": 31,
      "outputs": [
        {
          "output_type": "execute_result",
          "data": {
            "text/html": [
              "<style type=\"text/css\">\n",
              "#T_4ade5_row0_col3, #T_4ade5_row2_col3, #T_4ade5_row4_col3, #T_4ade5_row6_col3 {\n",
              "  color: #d1dae9;\n",
              "}\n",
              "#T_4ade5_row1_col3 {\n",
              "  color: #7597f6;\n",
              "}\n",
              "#T_4ade5_row3_col3 {\n",
              "  color: #3b4cc0;\n",
              "}\n",
              "#T_4ade5_row5_col3, #T_4ade5_row8_col3 {\n",
              "  color: #e8d6cc;\n",
              "}\n",
              "#T_4ade5_row7_col3, #T_4ade5_row9_col3 {\n",
              "  color: #f5c1a9;\n",
              "}\n",
              "#T_4ade5_row10_col3 {\n",
              "  color: #b40426;\n",
              "}\n",
              "#T_4ade5_row11_col3 {\n",
              "  color: #d44e41;\n",
              "}\n",
              "#T_4ade5_row12_col3 {\n",
              "  color: #ea7b60;\n",
              "}\n",
              "</style>\n",
              "<table id=\"T_4ade5_\" class=\"dataframe\">\n",
              "  <thead>\n",
              "    <tr>\n",
              "      <th class=\"blank level0\" >&nbsp;</th>\n",
              "      <th class=\"col_heading level0 col0\" >Grade</th>\n",
              "      <th class=\"col_heading level0 col1\" >Hours_Needed</th>\n",
              "      <th class=\"col_heading level0 col2\" >Hours_Averaged</th>\n",
              "      <th class=\"col_heading level0 col3\" >Deficit</th>\n",
              "    </tr>\n",
              "  </thead>\n",
              "  <tbody>\n",
              "    <tr>\n",
              "      <th id=\"T_4ade5_level0_row0\" class=\"row_heading level0 row0\" >0</th>\n",
              "      <td id=\"T_4ade5_row0_col0\" class=\"data row0 col0\" >Kindergarten</td>\n",
              "      <td id=\"T_4ade5_row0_col1\" class=\"data row0 col1\" >9.500000</td>\n",
              "      <td id=\"T_4ade5_row0_col2\" class=\"data row0 col2\" >8.500000</td>\n",
              "      <td id=\"T_4ade5_row0_col3\" class=\"data row0 col3\" >1.000000</td>\n",
              "    </tr>\n",
              "    <tr>\n",
              "      <th id=\"T_4ade5_level0_row1\" class=\"row_heading level0 row1\" >1</th>\n",
              "      <td id=\"T_4ade5_row1_col0\" class=\"data row1 col0\" >First grade</td>\n",
              "      <td id=\"T_4ade5_row1_col1\" class=\"data row1 col1\" >9.100000</td>\n",
              "      <td id=\"T_4ade5_row1_col2\" class=\"data row1 col2\" >8.400000</td>\n",
              "      <td id=\"T_4ade5_row1_col3\" class=\"data row1 col3\" >0.700000</td>\n",
              "    </tr>\n",
              "    <tr>\n",
              "      <th id=\"T_4ade5_level0_row2\" class=\"row_heading level0 row2\" >2</th>\n",
              "      <td id=\"T_4ade5_row2_col0\" class=\"data row2 col0\" >Second grade</td>\n",
              "      <td id=\"T_4ade5_row2_col1\" class=\"data row2 col1\" >9.300000</td>\n",
              "      <td id=\"T_4ade5_row2_col2\" class=\"data row2 col2\" >8.300000</td>\n",
              "      <td id=\"T_4ade5_row2_col3\" class=\"data row2 col3\" >1.000000</td>\n",
              "    </tr>\n",
              "    <tr>\n",
              "      <th id=\"T_4ade5_level0_row3\" class=\"row_heading level0 row3\" >3</th>\n",
              "      <td id=\"T_4ade5_row3_col0\" class=\"data row3 col0\" >Third grade</td>\n",
              "      <td id=\"T_4ade5_row3_col1\" class=\"data row3 col1\" >8.600000</td>\n",
              "      <td id=\"T_4ade5_row3_col2\" class=\"data row3 col2\" >8.100000</td>\n",
              "      <td id=\"T_4ade5_row3_col3\" class=\"data row3 col3\" >0.500000</td>\n",
              "    </tr>\n",
              "    <tr>\n",
              "      <th id=\"T_4ade5_level0_row4\" class=\"row_heading level0 row4\" >4</th>\n",
              "      <td id=\"T_4ade5_row4_col0\" class=\"data row4 col0\" >Fourth grade</td>\n",
              "      <td id=\"T_4ade5_row4_col1\" class=\"data row4 col1\" >8.900000</td>\n",
              "      <td id=\"T_4ade5_row4_col2\" class=\"data row4 col2\" >7.900000</td>\n",
              "      <td id=\"T_4ade5_row4_col3\" class=\"data row4 col3\" >1.000000</td>\n",
              "    </tr>\n",
              "    <tr>\n",
              "      <th id=\"T_4ade5_level0_row5\" class=\"row_heading level0 row5\" >5</th>\n",
              "      <td id=\"T_4ade5_row5_col0\" class=\"data row5 col0\" >Fifth grade</td>\n",
              "      <td id=\"T_4ade5_row5_col1\" class=\"data row5 col1\" >8.900000</td>\n",
              "      <td id=\"T_4ade5_row5_col2\" class=\"data row5 col2\" >7.800000</td>\n",
              "      <td id=\"T_4ade5_row5_col3\" class=\"data row5 col3\" >1.100000</td>\n",
              "    </tr>\n",
              "    <tr>\n",
              "      <th id=\"T_4ade5_level0_row6\" class=\"row_heading level0 row6\" >6</th>\n",
              "      <td id=\"T_4ade5_row6_col0\" class=\"data row6 col0\" >Sixth grade</td>\n",
              "      <td id=\"T_4ade5_row6_col1\" class=\"data row6 col1\" >8.600000</td>\n",
              "      <td id=\"T_4ade5_row6_col2\" class=\"data row6 col2\" >7.600000</td>\n",
              "      <td id=\"T_4ade5_row6_col3\" class=\"data row6 col3\" >1.000000</td>\n",
              "    </tr>\n",
              "    <tr>\n",
              "      <th id=\"T_4ade5_level0_row7\" class=\"row_heading level0 row7\" >7</th>\n",
              "      <td id=\"T_4ade5_row7_col0\" class=\"data row7 col0\" >Seventh grade</td>\n",
              "      <td id=\"T_4ade5_row7_col1\" class=\"data row7 col1\" >8.500000</td>\n",
              "      <td id=\"T_4ade5_row7_col2\" class=\"data row7 col2\" >7.300000</td>\n",
              "      <td id=\"T_4ade5_row7_col3\" class=\"data row7 col3\" >1.200000</td>\n",
              "    </tr>\n",
              "    <tr>\n",
              "      <th id=\"T_4ade5_level0_row8\" class=\"row_heading level0 row8\" >8</th>\n",
              "      <td id=\"T_4ade5_row8_col0\" class=\"data row8 col0\" >Eighth grade</td>\n",
              "      <td id=\"T_4ade5_row8_col1\" class=\"data row8 col1\" >8.500000</td>\n",
              "      <td id=\"T_4ade5_row8_col2\" class=\"data row8 col2\" >7.400000</td>\n",
              "      <td id=\"T_4ade5_row8_col3\" class=\"data row8 col3\" >1.100000</td>\n",
              "    </tr>\n",
              "    <tr>\n",
              "      <th id=\"T_4ade5_level0_row9\" class=\"row_heading level0 row9\" >9</th>\n",
              "      <td id=\"T_4ade5_row9_col0\" class=\"data row9 col0\" >Ninth grade</td>\n",
              "      <td id=\"T_4ade5_row9_col1\" class=\"data row9 col1\" >8.300000</td>\n",
              "      <td id=\"T_4ade5_row9_col2\" class=\"data row9 col2\" >7.100000</td>\n",
              "      <td id=\"T_4ade5_row9_col3\" class=\"data row9 col3\" >1.200000</td>\n",
              "    </tr>\n",
              "    <tr>\n",
              "      <th id=\"T_4ade5_level0_row10\" class=\"row_heading level0 row10\" >10</th>\n",
              "      <td id=\"T_4ade5_row10_col0\" class=\"data row10 col0\" >10th grade</td>\n",
              "      <td id=\"T_4ade5_row10_col1\" class=\"data row10 col1\" >8.400000</td>\n",
              "      <td id=\"T_4ade5_row10_col2\" class=\"data row10 col2\" >6.800000</td>\n",
              "      <td id=\"T_4ade5_row10_col3\" class=\"data row10 col3\" >1.600000</td>\n",
              "    </tr>\n",
              "    <tr>\n",
              "      <th id=\"T_4ade5_level0_row11\" class=\"row_heading level0 row11\" >11</th>\n",
              "      <td id=\"T_4ade5_row11_col0\" class=\"data row11 col0\" >11th grade</td>\n",
              "      <td id=\"T_4ade5_row11_col1\" class=\"data row11 col1\" >8.400000</td>\n",
              "      <td id=\"T_4ade5_row11_col2\" class=\"data row11 col2\" >6.900000</td>\n",
              "      <td id=\"T_4ade5_row11_col3\" class=\"data row11 col3\" >1.500000</td>\n",
              "    </tr>\n",
              "    <tr>\n",
              "      <th id=\"T_4ade5_level0_row12\" class=\"row_heading level0 row12\" >12</th>\n",
              "      <td id=\"T_4ade5_row12_col0\" class=\"data row12 col0\" >12th grade</td>\n",
              "      <td id=\"T_4ade5_row12_col1\" class=\"data row12 col1\" >8.000000</td>\n",
              "      <td id=\"T_4ade5_row12_col2\" class=\"data row12 col2\" >6.600000</td>\n",
              "      <td id=\"T_4ade5_row12_col3\" class=\"data row12 col3\" >1.400000</td>\n",
              "    </tr>\n",
              "  </tbody>\n",
              "</table>\n"
            ],
            "text/plain": [
              "<pandas.io.formats.style.Styler at 0x7ff6df5a9bd0>"
            ]
          },
          "metadata": {},
          "execution_count": 31
        }
      ]
    },
    {
      "cell_type": "markdown",
      "source": [
        "This updated DataFrame shows as a deficit of Sleep in different grades"
      ],
      "metadata": {
        "id": "EEykHp6NnWgB"
      }
    },
    {
      "cell_type": "code",
      "source": [
        "#plotting number of needed hours of sleep to average hours of sleep\n",
        "\n",
        "fig, axes = plt.subplots(figsize=(7, 10))\n",
        "\n",
        "# Plot the Hours Needed\n",
        "sns.set_color_codes(\"pastel\")\n",
        "sns.barplot(x=\"Hours_Needed\", y=\"Grade\", data=df,\n",
        "            label=\"Hours_Needed\", color=\"b\")\n",
        "\n",
        "# Plot the Hours Avarage\n",
        "sns.set_color_codes(\"muted\")\n",
        "sns.barplot(x=\"Hours_Averaged\", y=\"Grade\", data=df,\n",
        "            label=\"Hours_Averaged\", color=\"b\")\n",
        "# Add a title\n",
        "axes.set_title('Number of Needed Hours vs Avarage Hours of Sleep by Grade',fontsize = 18)\n",
        "\n",
        "# Add a legend and informative axis label\n",
        "axes.legend(ncol=1, loc=(1.02,0), frameon=True)\n",
        "axes.set_xlabel('Hours', fontsize=14)\n",
        "axes.set_ylabel('Grade', fontsize=14)\n",
        "axes.set_xlim(0,10)\n",
        "sns.despine(left=True, bottom=True)\n"
      ],
      "metadata": {
        "id": "CG26AenPi59V",
        "colab": {
          "base_uri": "https://localhost:8080/",
          "height": 629
        },
        "outputId": "134b69fe-ebb2-4c62-8d60-68ef2598f88a"
      },
      "execution_count": 33,
      "outputs": [
        {
          "output_type": "display_data",
          "data": {
            "image/png": "[encoded data removed]",
            "text/plain": [
              "<Figure size 504x720 with 1 Axes>"
            ]
          },
          "metadata": {
            "needs_background": "light"
          }
        }
      ]
    },
    {
      "cell_type": "markdown",
      "source": [
        "**From the plot we can see that kids in all grades have a sleep deficit.**"
      ],
      "metadata": {
        "id": "P4y3fi2bum80"
      }
    },
    {
      "cell_type": "code",
      "source": [
        "#sorting DataFrame to see which grades have the biggest sleep deficit\n",
        "df1 =df.sort_values(by='Deficit', ascending=False)"
      ],
      "metadata": {
        "id": "FgSdC7zaSSmW"
      },
      "execution_count": 34,
      "outputs": []
    },
    {
      "cell_type": "code",
      "source": [
        "df1.style.text_gradient(cmap='coolwarm', subset='Deficit')\n",
        "df1"
      ],
      "metadata": {
        "colab": {
          "base_uri": "https://localhost:8080/",
          "height": 452
        },
        "id": "zS3Q8lUHZzDX",
        "outputId": "15c03796-9435-4226-cebf-b521bf852950"
      },
      "execution_count": 35,
      "outputs": [
        {
          "output_type": "execute_result",
          "data": {
            "text/html": [
              "\n",
              "  <div id=\"df-5ac240e3-d3fc-4290-8ea7-03a56b5172a5\">\n",
              "    <div class=\"colab-df-container\">\n",
              "      <div>\n",
              "<style scoped>\n",
              "    .dataframe tbody tr th:only-of-type {\n",
              "        vertical-align: middle;\n",
              "    }\n",
              "\n",
              "    .dataframe tbody tr th {\n",
              "        vertical-align: top;\n",
              "    }\n",
              "\n",
              "    .dataframe thead th {\n",
              "        text-align: right;\n",
              "    }\n",
              "</style>\n",
              "<table border=\"1\" class=\"dataframe\">\n",
              "  <thead>\n",
              "    <tr style=\"text-align: right;\">\n",
              "      <th></th>\n",
              "      <th>Grade</th>\n",
              "      <th>Hours_Needed</th>\n",
              "      <th>Hours_Averaged</th>\n",
              "      <th>Deficit</th>\n",
              "    </tr>\n",
              "  </thead>\n",
              "  <tbody>\n",
              "    <tr>\n",
              "      <th>10</th>\n",
              "      <td>10th grade</td>\n",
              "      <td>8.4</td>\n",
              "      <td>6.8</td>\n",
              "      <td>1.6</td>\n",
              "    </tr>\n",
              "    <tr>\n",
              "      <th>11</th>\n",
              "      <td>11th grade</td>\n",
              "      <td>8.4</td>\n",
              "      <td>6.9</td>\n",
              "      <td>1.5</td>\n",
              "    </tr>\n",
              "    <tr>\n",
              "      <th>12</th>\n",
              "      <td>12th grade</td>\n",
              "      <td>8.0</td>\n",
              "      <td>6.6</td>\n",
              "      <td>1.4</td>\n",
              "    </tr>\n",
              "    <tr>\n",
              "      <th>9</th>\n",
              "      <td>Ninth grade</td>\n",
              "      <td>8.3</td>\n",
              "      <td>7.1</td>\n",
              "      <td>1.2</td>\n",
              "    </tr>\n",
              "    <tr>\n",
              "      <th>7</th>\n",
              "      <td>Seventh grade</td>\n",
              "      <td>8.5</td>\n",
              "      <td>7.3</td>\n",
              "      <td>1.2</td>\n",
              "    </tr>\n",
              "    <tr>\n",
              "      <th>5</th>\n",
              "      <td>Fifth grade</td>\n",
              "      <td>8.9</td>\n",
              "      <td>7.8</td>\n",
              "      <td>1.1</td>\n",
              "    </tr>\n",
              "    <tr>\n",
              "      <th>8</th>\n",
              "      <td>Eighth grade</td>\n",
              "      <td>8.5</td>\n",
              "      <td>7.4</td>\n",
              "      <td>1.1</td>\n",
              "    </tr>\n",
              "    <tr>\n",
              "      <th>0</th>\n",
              "      <td>Kindergarten</td>\n",
              "      <td>9.5</td>\n",
              "      <td>8.5</td>\n",
              "      <td>1.0</td>\n",
              "    </tr>\n",
              "    <tr>\n",
              "      <th>2</th>\n",
              "      <td>Second grade</td>\n",
              "      <td>9.3</td>\n",
              "      <td>8.3</td>\n",
              "      <td>1.0</td>\n",
              "    </tr>\n",
              "    <tr>\n",
              "      <th>4</th>\n",
              "      <td>Fourth grade</td>\n",
              "      <td>8.9</td>\n",
              "      <td>7.9</td>\n",
              "      <td>1.0</td>\n",
              "    </tr>\n",
              "    <tr>\n",
              "      <th>6</th>\n",
              "      <td>Sixth grade</td>\n",
              "      <td>8.6</td>\n",
              "      <td>7.6</td>\n",
              "      <td>1.0</td>\n",
              "    </tr>\n",
              "    <tr>\n",
              "      <th>1</th>\n",
              "      <td>First grade</td>\n",
              "      <td>9.1</td>\n",
              "      <td>8.4</td>\n",
              "      <td>0.7</td>\n",
              "    </tr>\n",
              "    <tr>\n",
              "      <th>3</th>\n",
              "      <td>Third grade</td>\n",
              "      <td>8.6</td>\n",
              "      <td>8.1</td>\n",
              "      <td>0.5</td>\n",
              "    </tr>\n",
              "  </tbody>\n",
              "</table>\n",
              "</div>\n",
              "      <button class=\"colab-df-convert\" onclick=\"convertToInteractive('df-5ac240e3-d3fc-4290-8ea7-03a56b5172a5')\"\n",
              "              title=\"Convert this dataframe to an interactive table.\"\n",
              "              style=\"display:none;\">\n",
              "        \n",
              "  <svg xmlns=\"http://www.w3.org/2000/svg\" height=\"24px\"viewBox=\"0 0 24 24\"\n",
              "       width=\"24px\">\n",
              "    <path d=\"M0 0h24v24H0V0z\" fill=\"none\"/>\n",
              "    <path d=\"M18.56 5.44l.94 2.06.94-2.06 2.06-.94-2.06-.94-.94-2.06-.94 2.06-2.06.94zm-11 1L8.5 8.5l.94-2.06 2.06-.94-2.06-.94L8.5 2.5l-.94 2.06-2.06.94zm10 10l.94 2.06.94-2.06 2.06-.94-2.06-.94-.94-2.06-.94 2.06-2.06.94z\"/><path d=\"M17.41 7.96l-1.37-1.37c-.4-.4-.92-.59-1.43-.59-.52 0-1.04.2-1.43.59L10.3 9.45l-7.72 7.72c-.78.78-.78 2.05 0 2.83L4 21.41c.39.39.9.59 1.41.59.51 0 1.02-.2 1.41-.59l7.78-7.78 2.81-2.81c.8-.78.8-2.07 0-2.86zM5.41 20L4 18.59l7.72-7.72 1.47 1.35L5.41 20z\"/>\n",
              "  </svg>\n",
              "      </button>\n",
              "      \n",
              "  <style>\n",
              "    .colab-df-container {\n",
              "      display:flex;\n",
              "      flex-wrap:wrap;\n",
              "      gap: 12px;\n",
              "    }\n",
              "\n",
              "    .colab-df-convert {\n",
              "      background-color: #E8F0FE;\n",
              "      border: none;\n",
              "      border-radius: 50%;\n",
              "      cursor: pointer;\n",
              "      display: none;\n",
              "      fill: #1967D2;\n",
              "      height: 32px;\n",
              "      padding: 0 0 0 0;\n",
              "      width: 32px;\n",
              "    }\n",
              "\n",
              "    .colab-df-convert:hover {\n",
              "      background-color: #E2EBFA;\n",
              "      box-shadow: 0px 1px 2px rgba(60, 64, 67, 0.3), 0px 1px 3px 1px rgba(60, 64, 67, 0.15);\n",
              "      fill: #174EA6;\n",
              "    }\n",
              "\n",
              "    [theme=dark] .colab-df-convert {\n",
              "      background-color: #3B4455;\n",
              "      fill: #D2E3FC;\n",
              "    }\n",
              "\n",
              "    [theme=dark] .colab-df-convert:hover {\n",
              "      background-color: #434B5C;\n",
              "      box-shadow: 0px 1px 3px 1px rgba(0, 0, 0, 0.15);\n",
              "      filter: drop-shadow(0px 1px 2px rgba(0, 0, 0, 0.3));\n",
              "      fill: #FFFFFF;\n",
              "    }\n",
              "  </style>\n",
              "\n",
              "      <script>\n",
              "        const buttonEl =\n",
              "          document.querySelector('#df-5ac240e3-d3fc-4290-8ea7-03a56b5172a5 button.colab-df-convert');\n",
              "        buttonEl.style.display =\n",
              "          google.colab.kernel.accessAllowed ? 'block' : 'none';\n",
              "\n",
              "        async function convertToInteractive(key) {\n",
              "          const element = document.querySelector('#df-5ac240e3-d3fc-4290-8ea7-03a56b5172a5');\n",
              "          const dataTable =\n",
              "            await google.colab.kernel.invokeFunction('convertToInteractive',\n",
              "                                                     [key], {});\n",
              "          if (!dataTable) return;\n",
              "\n",
              "          const docLinkHtml = 'Like what you see? Visit the ' +\n",
              "            '<a target=\"_blank\" href=https://colab.research.google.com/notebooks/data_table.ipynb>data table notebook</a>'\n",
              "            + ' to learn more about interactive tables.';\n",
              "          element.innerHTML = '';\n",
              "          dataTable['output_type'] = 'display_data';\n",
              "          await google.colab.output.renderOutput(dataTable, element);\n",
              "          const docLink = document.createElement('div');\n",
              "          docLink.innerHTML = docLinkHtml;\n",
              "          element.appendChild(docLink);\n",
              "        }\n",
              "      </script>\n",
              "    </div>\n",
              "  </div>\n",
              "  "
            ],
            "text/plain": [
              "            Grade  Hours_Needed  Hours_Averaged  Deficit\n",
              "10     10th grade           8.4             6.8      1.6\n",
              "11     11th grade           8.4             6.9      1.5\n",
              "12     12th grade           8.0             6.6      1.4\n",
              "9     Ninth grade           8.3             7.1      1.2\n",
              "7   Seventh grade           8.5             7.3      1.2\n",
              "5     Fifth grade           8.9             7.8      1.1\n",
              "8    Eighth grade           8.5             7.4      1.1\n",
              "0    Kindergarten           9.5             8.5      1.0\n",
              "2    Second grade           9.3             8.3      1.0\n",
              "4    Fourth grade           8.9             7.9      1.0\n",
              "6     Sixth grade           8.6             7.6      1.0\n",
              "1     First grade           9.1             8.4      0.7\n",
              "3     Third grade           8.6             8.1      0.5"
            ]
          },
          "metadata": {},
          "execution_count": 35
        }
      ]
    },
    {
      "cell_type": "code",
      "source": [
        "#used a code from https://www.statology.org/seaborn-barplot-show-values/, to show values on barplot\n",
        "def show_values(axs, orient=\"v\", space=.01):\n",
        "    def _single(ax):\n",
        "        if orient == \"v\":\n",
        "            for p in ax.patches:\n",
        "                _x = p.get_x() + p.get_width() / 2\n",
        "                _y = p.get_y() + p.get_height() + (p.get_height()*0.01)\n",
        "                value = '{:.1f}'.format(p.get_height())\n",
        "                ax.text(_x, _y, value, ha=\"center\") \n",
        "        elif orient == \"h\":\n",
        "            for p in ax.patches:\n",
        "                _x = p.get_x() + p.get_width() + float(space)\n",
        "                _y = p.get_y() + p.get_height() - (p.get_height()*0.5)\n",
        "                value = '{:.1f}'.format(p.get_width())\n",
        "                ax.text(_x, _y, value, ha=\"left\")\n",
        "\n",
        "    if isinstance(axs, np.ndarray):\n",
        "        for idx, ax in np.ndenumerate(axs):\n",
        "            _single(ax)\n",
        "    else:\n",
        "        _single(axs)"
      ],
      "metadata": {
        "id": "BYg0WBqOoalF"
      },
      "execution_count": 36,
      "outputs": []
    },
    {
      "cell_type": "code",
      "source": [
        "#plotting to see which grades have the biggest sleep deficit\n",
        "fig, axes = plt.subplots(figsize=(12, 5))\n",
        "sns.set_color_codes(\"muted\")\n",
        "ax = sns.barplot(x=\"Grade\", y=\"Deficit\", data=df1,\n",
        "            label=\"Deficit\", color=\"b\",orient='v')\n",
        "axes.set(ylim=(0, 2), xlabel=\"Hours\",\n",
        "       ylabel=\"Grade\")\n",
        "axes.set_xticklabels(ax.get_xticklabels(),rotation=45,ha='right')\n",
        "sns.despine(left=True, bottom=True)\n",
        "axes.set_title('Deficit of Hours by Grades',fontsize = 18);\n",
        "show_values(ax)"
      ],
      "metadata": {
        "colab": {
          "base_uri": "https://localhost:8080/",
          "height": 403
        },
        "id": "NOD1kIY_esXg",
        "outputId": "551550eb-f7c8-40c3-ca54-88cda3c6062d"
      },
      "execution_count": 37,
      "outputs": [
        {
          "output_type": "display_data",
          "data": {
            "image/png": "[encoded data removed]",
            "text/plain": [
              "<Figure size 864x360 with 1 Axes>"
            ]
          },
          "metadata": {
            "needs_background": "light"
          }
        }
      ]
    },
    {
      "cell_type": "markdown",
      "source": [
        "**From this plot we can see that high school kids have the most sleep deficit.**"
      ],
      "metadata": {
        "id": "snUZ69CWhN_8"
      }
    }
  ]
}